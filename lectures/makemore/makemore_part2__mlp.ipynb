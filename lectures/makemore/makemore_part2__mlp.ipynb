{
 "cells": [
  {
   "cell_type": "code",
   "execution_count": 12,
   "metadata": {
    "ExecuteTime": {
     "end_time": "2024-02-16T21:02:24.750248800Z",
     "start_time": "2024-02-16T21:02:24.724137Z"
    }
   },
   "outputs": [],
   "source": [
    "import torch\n",
    "import random\n",
    "import torch.nn.functional as F\n",
    "import matplotlib.pyplot as plt # for making figures\n",
    "%matplotlib inline"
   ]
  },
  {
   "cell_type": "code",
   "outputs": [],
   "source": [
    "class Consts:\n",
    "    random.seed(42)\n",
    "    block_size = 3  # Kontextová délka: kolik znaků použijeme k předpovědi dalšího?\n",
    "    num_layers = 2  # Počet vrstev v modelu\n",
    "    num_epochs = 10  # Počet epoch pro trén|ink\n",
    "    file_path = 'names.txt'\n",
    "    emb_dim = 2\n",
    "    layer1_size = 100\n",
    "    char_count = 27 # 26 znaků + tečka\n",
    "\n",
    "class Vocabulary:\n",
    "    def __init__(self):\n",
    "        self.stoi, self.itos, self.words = Vocabulary.build_vocab(Consts.file_path)\n",
    "        \n",
    "    def build_vocab(file_path):\n",
    "        with open(file_path, 'r') as file: # Načtení slov ze souboru\n",
    "            words = file.read().splitlines()\n",
    "        chars = sorted(list(set(''.join(words))))\n",
    "        stoi = {s: i+1 for i, s in enumerate(chars)}\n",
    "        stoi['.'] = 0\n",
    "        itos = {i: s for s, i in stoi.items()}\n",
    "        return stoi, itos, words\n",
    "\n",
    "vocab = Vocabulary()\n",
    "\n",
    "class Dataset:\n",
    "    def __init__(self):\n",
    "        random.shuffle(vocab.words)\n",
    "        n1 = int(0.8*len(vocab.words))\n",
    "        n2 = int(0.9*len(vocab.words))\n",
    "        self.Xtr, self.Ytr = Dataset.build_dataset(vocab.words[:n1])\n",
    "        self.Xdev, self.Ydev = Dataset.build_dataset(vocab.words[n1:n2])\n",
    "        self.Xte, self.Yte = Dataset.build_dataset(vocab.words[n2:])\n",
    "\n",
    "    def build_dataset(words):  \n",
    "      X, Y = [], []\n",
    "      for w in words:\n",
    "        context = [0] * Consts.block_size\n",
    "        for ch in w + '.':\n",
    "          ix = vocab.stoi[ch]\n",
    "          X.append(context)\n",
    "          Y.append(ix)\n",
    "          #print(''.join(itos[i] for i in context), '--->', itos[ix])\n",
    "          context = context[1:] + [ix] # crop and append\n",
    "      X = torch.tensor(X)\n",
    "      Y = torch.tensor(Y)\n",
    "      return X, Y\n",
    "\n",
    "data = Dataset()\n",
    "X, Y = data.Xtr, data.Ytr"
   ],
   "metadata": {
    "collapsed": false,
    "ExecuteTime": {
     "end_time": "2024-02-16T23:08:05.160028600Z",
     "start_time": "2024-02-16T23:08:03.871898Z"
    }
   },
   "execution_count": 20
  },
  {
   "cell_type": "code",
   "execution_count": 25,
   "metadata": {
    "ExecuteTime": {
     "end_time": "2024-02-14T16:35:14.340871500Z",
     "start_time": "2024-02-14T16:35:14.329035800Z"
    }
   },
   "outputs": [],
   "source": [
    "\n",
    "\n",
    "emb = C[X] # embedded chars obtained by indexing the lookup table\n",
    "h = torch.tanh(emb.view(-1, Consts.block_size * Consts.emb_dim) @ W1 + b1) # vystup prvni vrstvy\n",
    "logits = h @ W2 + b2 # vystup posledni vrstvy\n",
    "counts = logits.exp()\n",
    "prob = counts / counts.sum(1, keepdims=True)\n",
    "loss = -prob[torch.arange(228146), Y].log().mean()"
   ]
  },
  {
   "cell_type": "code",
   "execution_count": 20,
   "metadata": {
    "ExecuteTime": {
     "end_time": "2024-02-17T00:03:51.817792900Z",
     "start_time": "2024-02-17T00:03:51.799665600Z"
    }
   },
   "outputs": [],
   "source": [
    "class Model:\n",
    "    def __init__(self):\n",
    "        g = torch.Generator().manual_seed(2147483647) # for reproducibility\n",
    "        self.C = torch.randn((Consts.char_count, Consts.emb_dim), generator=g)\n",
    "        self.W1 = torch.randn((Consts.block_size * Consts.emb_dim, Consts.layer1_size), generator=g)\n",
    "        self.b1 = torch.randn(Consts.layer1_size, generator=g)\n",
    "        self.W2 = torch.randn((Consts.layer1_size, Consts.char_count), generator=g)\n",
    "        self.b2 = torch.randn(Consts.char_count, generator=g)\n",
    "        self.parameters = [self.C, self.W1, self.b1, self.W2, self.b2]\n",
    "\n",
    "    def forward(self, X):\n",
    "        emb = self.C[X] # embedded chars obtained by indexing the lookup table\n",
    "        h = torch.tanh(emb.view(-1, Consts.block_size * Consts.emb_dim) @ self.W1 + self.b1) # vystup prvni vrstvy\n",
    "        logits = h @ self.W2 + self.b2 # vystup posledni vrstvy\n",
    "        return logits\n",
    "\n",
    "    def loss(self, logits, Y):\n",
    "        counts = logits.exp()\n",
    "        prob = counts / counts.sum(1, keepdims=True)\n",
    "        loss = -prob[torch.arange(228146), Y].log().mean()\n",
    "        return loss\n",
    "\n",
    "    def train(self, X, Y, epochs=10, lr=0.1):\n",
    "        for p in self.parameters:\n",
    "            p.requires_grad = True\n",
    "        for i in range(epochs):\n",
    "            emb = self.C[X] # (32, 3, 2)\n",
    "            h = torch.tanh(emb.view(-1, 30) @ self.W1 + self.b1) # (32, 100)\n",
    "            logits = h @ self.W2 + self.b2 # (32, Consts.char_count)\n",
    "            loss = self.loss(logits, Y)\n",
    "            print(loss.item())\n",
    "            for p in self.parameters:\n",
    "                p.grad = None\n",
    "            loss.backward()\n",
    "            for p in self.parameters:\n",
    "                p.data += -lr * p.grad"
   ]
  },
  {
   "cell_type": "code",
   "execution_count": 30,
   "metadata": {
    "ExecuteTime": {
     "end_time": "2024-02-14T16:35:15.422553200Z",
     "start_time": "2024-02-14T16:35:15.366608900Z"
    }
   },
   "outputs": [],
   "source": [
    "lre = torch.linspace(-3, 0, 1000)\n",
    "lrs = 10**lre"
   ]
  },
  {
   "cell_type": "code",
   "execution_count": 31,
   "metadata": {
    "ExecuteTime": {
     "end_time": "2024-02-14T16:35:16.256748900Z",
     "start_time": "2024-02-14T16:35:16.092314700Z"
    }
   },
   "outputs": [],
   "source": [
    "lri = []\n",
    "lossi = []\n",
    "stepi = []"
   ]
  },
  {
   "cell_type": "code",
   "execution_count": 32,
   "metadata": {
    "ExecuteTime": {
     "end_time": "2024-02-14T16:38:07.525411500Z",
     "start_time": "2024-02-14T16:35:16.276281100Z"
    }
   },
   "outputs": [],
   "source": [
    "for i in range(200000):\n",
    "  \n",
    "  # minibatch construct\n",
    "  ix = torch.randint(0, X.shape[0], (32,))\n",
    "  \n",
    "  # forward pass\n",
    "  emb = C[X[ix]] # (32, 3, 10)\n",
    "  h = torch.tanh(emb.view(-1, 30) @ W1 + b1) # (32, 200)\n",
    "  logits = h @ W2 + b2 # (32, Consts.char_count)\n",
    "  loss = F.cross_entropy(logits, Y[ix])\n",
    "  #print(loss.item())\n",
    "  \n",
    "  # backward pass\n",
    "  for p in parameters:\n",
    "    p.grad = None\n",
    "  loss.backward()\n",
    "  \n",
    "  # update\n",
    "  #lr = lrs[i]\n",
    "  lr = 0.1 if i < 100000 else 0.01\n",
    "  for p in parameters:\n",
    "    p.data += -lr * p.grad\n",
    "\n",
    "  # track stats\n",
    "  #lri.append(lre[i])\n",
    "  stepi.append(i)\n",
    "  lossi.append(loss.log10().item())\n",
    "\n",
    "#print(loss.item())"
   ]
  },
  {
   "cell_type": "code",
   "execution_count": 33,
   "metadata": {
    "ExecuteTime": {
     "end_time": "2024-02-14T16:38:08.343121Z",
     "start_time": "2024-02-14T16:38:07.637384Z"
    }
   },
   "outputs": [
    {
     "data": {
      "text/plain": "[<matplotlib.lines.Line2D at 0x20b06e0c280>]"
     },
     "execution_count": 33,
     "metadata": {},
     "output_type": "execute_result"
    },
    {
     "data": {
      "text/plain": "<Figure size 640x480 with 1 Axes>",
      "image/png": "[encoded data removed]"
     },
     "metadata": {},
     "output_type": "display_data"
    }
   ],
   "source": [
    "plt.plot(stepi, lossi)"
   ]
  },
  {
   "cell_type": "code",
   "execution_count": 34,
   "metadata": {
    "ExecuteTime": {
     "end_time": "2024-02-14T16:38:08.609164600Z",
     "start_time": "2024-02-14T16:38:08.343121Z"
    }
   },
   "outputs": [
    {
     "data": {
      "text/plain": "tensor(2.1201, grad_fn=<NllLossBackward0>)"
     },
     "execution_count": 34,
     "metadata": {},
     "output_type": "execute_result"
    }
   ],
   "source": [
    "emb = C[X] # (32, 3, 2)\n",
    "h = torch.tanh(emb.view(-1, 30) @ W1 + b1) # (32, 100)\n",
    "logits = h @ W2 + b2 # (32, Consts.char_count)\n",
    "loss = F.cross_entropy(logits, Y)\n",
    "loss"
   ]
  },
  {
   "cell_type": "code",
   "execution_count": 35,
   "metadata": {
    "ExecuteTime": {
     "end_time": "2024-02-14T16:38:08.672481500Z",
     "start_time": "2024-02-14T16:38:08.608164100Z"
    }
   },
   "outputs": [
    {
     "data": {
      "text/plain": "tensor(2.1610, grad_fn=<NllLossBackward0>)"
     },
     "execution_count": 35,
     "metadata": {},
     "output_type": "execute_result"
    }
   ],
   "source": [
    "emb = C[data.Xdev] # (32, 3, 2)\n",
    "h = torch.tanh(emb.view(-1, 30) @ W1 + b1) # (32, 100)\n",
    "logits = h @ W2 + b2 # (32, Consts.char_count)\n",
    "loss = F.cross_entropy(logits, data.Ydev)\n",
    "loss"
   ]
  },
  {
   "cell_type": "code",
   "execution_count": 36,
   "metadata": {
    "ExecuteTime": {
     "end_time": "2024-02-14T16:38:09.071028500Z",
     "start_time": "2024-02-14T16:38:08.666264900Z"
    }
   },
   "outputs": [
    {
     "data": {
      "text/plain": "<Figure size 800x800 with 1 Axes>",
      "image/png": "[encoded data removed]"
     },
     "metadata": {},
     "output_type": "display_data"
    }
   ],
   "source": [
    "# visualize dimensions 0 and 1 of the embedding matrix C for all characters\n",
    "plt.figure(figsize=(8,8))\n",
    "plt.scatter(C[:,0].data, C[:,1].data, s=200)\n",
    "for i in range(C.shape[0]):\n",
    "    plt.text(C[i,0].item(), C[i,1].item(), vocab.itos[i], ha=\"center\", va=\"center\", color='white')\n",
    "plt.grid('minor')"
   ]
  },
  {
   "cell_type": "code",
   "execution_count": 37,
   "metadata": {
    "ExecuteTime": {
     "end_time": "2024-02-14T16:38:09.264686Z",
     "start_time": "2024-02-14T16:38:09.062012600Z"
    }
   },
   "outputs": [],
   "source": [
    "# training split, dev/validation split, test split\n",
    "# 80%, 10%, 10%"
   ]
  },
  {
   "cell_type": "code",
   "execution_count": 38,
   "metadata": {
    "ExecuteTime": {
     "end_time": "2024-02-14T16:38:09.266690100Z",
     "start_time": "2024-02-14T16:38:09.079247400Z"
    }
   },
   "outputs": [
    {
     "data": {
      "text/plain": "torch.Size([1, 3, 10])"
     },
     "execution_count": 38,
     "metadata": {},
     "output_type": "execute_result"
    }
   ],
   "source": [
    "context = [0] * Consts.block_size\n",
    "C[torch.tensor([context])].shape"
   ]
  },
  {
   "cell_type": "code",
   "execution_count": 50,
   "metadata": {
    "ExecuteTime": {
     "end_time": "2024-02-15T18:14:47.158374600Z",
     "start_time": "2024-02-15T18:14:46.896486400Z"
    }
   },
   "outputs": [
    {
     "name": "stdout",
     "output_type": "stream",
     "text": [
      "carpaveato.\n",
      "hari.\n",
      "kemriggtef.\n",
      "khalaysa.\n",
      "jazonevalee.\n",
      "rha.\n",
      "kaeli.\n",
      "neronia.\n",
      "chaiiv.\n",
      "kaleigh.\n",
      "ham.\n",
      "pris.\n",
      "quint.\n",
      "suline.\n",
      "liveni.\n",
      "wazell.\n",
      "dearyx.\n",
      "karmeeniveli.\n",
      "emaediia.\n",
      "gian.\n"
     ]
    }
   ],
   "source": [
    "\n",
    "\n",
    "# sample from the model\n",
    "g = torch.Generator().manual_seed(2147483647 + 10)\n",
    "def sample_from_model(word_count):\n",
    "  for _ in range(word_count):\n",
    "      \n",
    "      out = []\n",
    "      context = [0] * Consts.block_size # initialize with all ...\n",
    "      while True:\n",
    "        emb = C[torch.tensor([context])] # (1,block_size,d)\n",
    "        h = torch.tanh(emb.view(1, -1) @ W1 + b1)\n",
    "        logits = h @ W2 + b2\n",
    "        probs = F.softmax(logits, dim=1)\n",
    "        ix = torch.multinomial(probs, num_samples=1, generator=g).item()\n",
    "        context = context[1:] + [ix]\n",
    "        out.append(ix)\n",
    "        if ix == 0:\n",
    "          break\n",
    "      \n",
    "      print(''.join(vocab.itos[i] for i in out))\n",
    "      \n",
    "word_count = 20\n",
    "sample_from_model(word_count)"
   ]
  },
  {
   "cell_type": "code",
   "outputs": [],
   "source": [],
   "metadata": {
    "collapsed": false
   }
  },
  {
   "cell_type": "code",
   "execution_count": 39,
   "metadata": {
    "ExecuteTime": {
     "end_time": "2024-02-14T16:38:09.346113600Z",
     "start_time": "2024-02-14T16:38:09.166731900Z"
    }
   },
   "outputs": [],
   "source": [
    "# sum(p.nelement() for p in parameters) # number of parameters in total"
   ]
  }
 ],
 "metadata": {
  "kernelspec": {
   "display_name": "Python 3",
   "language": "python",
   "name": "python3"
  },
  "language_info": {
   "codemirror_mode": {
    "name": "ipython",
    "version": 3
   },
   "file_extension": ".py",
   "mimetype": "text/x-python",
   "name": "python",
   "nbconvert_exporter": "python",
   "pygments_lexer": "ipython3",
   "version": "3.8.5"
  }
 },
 "nbformat": 4,
 "nbformat_minor": 4
}
